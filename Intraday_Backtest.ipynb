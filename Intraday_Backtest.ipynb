{
 "cells": [
  {
   "cell_type": "code",
   "execution_count": null,
   "metadata": {},
   "outputs": [],
   "source": [
    "import pandas as pd\n",
    "import numpy as np\n",
    "from equity_plot import equity_plot\n",
    "import warnings\n",
    "warnings.filterwarnings(\"ignore\")\n",
    "import matplotlib.pyplot as plt\n",
    "from datetime import datetime\n",
    "from itertools import compress\n",
    "from scipy import stats\n",
    "# import qgrid\n",
    "import yfinance as yf\n",
    "import datetime as dt\n",
    "import time\n",
    "from progressbar import *\n",
    "from ipywidgets import interact\n",
    "import random\n",
    "import pandas_market_calendars as mcal\n",
    "import bisect \n",
    "plt.rcParams['font.sans-serif'] = ['Microsoft JhengHei'] \n",
    "plt.rcParams['axes.unicode_minus'] = False\n",
    "plt.style.use('ggplot')\n",
    "# plt.rcParams['font.sans-serif'] = ['SimHei']\n",
    "pd.set_option('display.max_columns', None)\n",
    "pd.options.display.max_rows = 30"
   ]
  },
  {
   "cell_type": "markdown",
   "metadata": {},
   "source": [
    "Data"
   ]
  },
  {
   "cell_type": "code",
   "execution_count": null,
   "metadata": {},
   "outputs": [],
   "source": [
    "stock_price = pd.read_csv(r\"C:\\Users\\qwtl0\\Python\\TMBA_data\\TEJ_調整後股價資料\\收盤價(元).csv\")\n",
    "stock_lend = pd.read_csv(r\"C:\\Users\\qwtl0\\Python\\TMBA_data\\TEJ_融資融券\\融券(買+賣)除以成交量 %.csv\")\n",
    "stock_market = pd.read_csv(r\"C:\\Users\\qwtl0\\Python\\TMBA_data\\TEJ_借券餘額\\市場別.csv\")\n",
    "stock_volume = pd.read_csv(r\"C:\\Users\\qwtl0\\Python\\TMBA_data\\TEJ_調整後股價資料\\成交值(千元).csv\")\n",
    "industry = pd.read_csv(r\"C:\\Users\\qwtl0\\Python\\TMBA_data\\industry.csv\")"
   ]
  },
  {
   "cell_type": "markdown",
   "metadata": {},
   "source": [
    "Time"
   ]
  },
  {
   "cell_type": "code",
   "execution_count": null,
   "metadata": {},
   "outputs": [],
   "source": [
    "bt_start = \"2012-01-01\"\n",
    "bt_end = \"2021-10-01\""
   ]
  },
  {
   "cell_type": "markdown",
   "metadata": {},
   "source": [
    "Data Preprocessed"
   ]
  },
  {
   "cell_type": "code",
   "execution_count": null,
   "metadata": {},
   "outputs": [],
   "source": [
    "lend_df = stock_lend.copy()\n",
    "lend_df['年月日'] = pd.to_datetime(lend_df['年月日'].astype('str'))\n",
    "lend_df = lend_df.set_index('年月日').dropna(axis = 1)\n",
    "lend_df = lend_df.loc[bt_start:bt_end].replace(['           -','      -','     -','              -','        -'],np.nan).dropna(axis = 1).astype('float')\n",
    "\n",
    "stock_df = stock_price.copy()\n",
    "stock_df['年月日'] = pd.to_datetime(stock_df['年月日'].astype('str'))\n",
    "stock_df = stock_df.set_index('年月日').dropna(axis = 1)\n",
    "stock_df = stock_df.loc[bt_start:bt_end]\n",
    "\n",
    "market_df = stock_market.copy()\n",
    "market_df['年月日'] = pd.to_datetime(market_df['年月日'].astype('str'))\n",
    "market_df = market_df.set_index('年月日')\n",
    "market_df = market_df.loc[bt_start:bt_end].dropna(axis = 1)\n",
    "\n",
    "volume_df = stock_volume.copy()\n",
    "volume_df['年月日'] = pd.to_datetime(volume_df['年月日'].astype('str'))\n",
    "volume_df = volume_df.set_index('年月日').dropna(axis = 1)\n",
    "volume_df = volume_df.loc[bt_start:bt_end]\n",
    "\n",
    "industry['公司簡稱'] = industry['公司簡稱'].astype(str)\n",
    "industry_df = industry.copy()\n",
    "\n",
    "stock_set = set(stock_df.columns) & set(lend_df.columns)&set(market_df.tail(1)[market_df.tail(1) == 'TSE  '].dropna(axis = 1).columns)\n",
    "stock_df = stock_df[list(stock_set)]\n",
    "lend_df = lend_df[list(stock_set)]\n",
    "stock_close = stock_df.copy()"
   ]
  },
  {
   "cell_type": "markdown",
   "metadata": {},
   "source": [
    "Signal"
   ]
  },
  {
   "cell_type": "code",
   "execution_count": null,
   "metadata": {},
   "outputs": [],
   "source": [
    "signal_df = lend_df"
   ]
  },
  {
   "cell_type": "markdown",
   "metadata": {},
   "source": [
    "Condition"
   ]
  },
  {
   "cell_type": "code",
   "execution_count": null,
   "metadata": {},
   "outputs": [],
   "source": [
    "def stock_CTA_signal(rebalance_day,data,condition1,condition2) :\n",
    "    df = data.loc[rebalance_day][condition1 & condition2]\n",
    "    signal = df.keys()\n",
    "    return signal"
   ]
  },
  {
   "cell_type": "markdown",
   "metadata": {},
   "source": [
    "Rebalance Day"
   ]
  },
  {
   "cell_type": "code",
   "execution_count": null,
   "metadata": {},
   "outputs": [],
   "source": [
    "start_list = []\n",
    "rebalance_day = 1\n",
    "for x in range(len(stock_df.index)) :\n",
    "    if x%rebalance_day == 0:\n",
    "        start_list.append(stock_df.index[x])\n",
    "        \n",
    "end_list = []\n",
    "for x in range(len(stock_df.index)-(rebalance_day-1)) :\n",
    "    if x%rebalance_day == 0:\n",
    "        end_list.append(stock_df.index[x+(rebalance_day-1)])\n"
   ]
  },
  {
   "cell_type": "code",
   "execution_count": null,
   "metadata": {},
   "outputs": [],
   "source": [
    "rebalance_list = {'start' : start_list[:len(end_list)],'end' : end_list}\n",
    "pd.DataFrame(rebalance_list)"
   ]
  },
  {
   "cell_type": "markdown",
   "metadata": {},
   "source": [
    "CTA Backtest"
   ]
  },
  {
   "cell_type": "code",
   "execution_count": null,
   "metadata": {},
   "outputs": [],
   "source": [
    "ret_long_list = []\n",
    "tic_long_list = []\n",
    "\n",
    "cost = -0.001425\n",
    "\n",
    "data1 = signal_df\n",
    "# data1 = lend_df\n",
    "# data2 = stock_df\n",
    "# data3 = stock_21day_high\n",
    "\n",
    "start_time = time.time()\n",
    "for i in range(1,len(rebalance_list['start'])) :\n",
    "\n",
    "    #     訊號\n",
    "    long_signal = stock_CTA_signal(rebalance_list['end'][i-1],data = data1, \n",
    "                                   condition1 = signal_df.loc[rebalance_list['end'][i-1]] > 0.06 , \n",
    "                                   condition2 = (lend_df.loc[rebalance_list['end'][i-1]] < 0.03) & (lend_df.loc[rebalance_list['end'][i-1]] > 0) )\n",
    "    if long_signal.values.squeeze() != [] : \n",
    "        print(rebalance_list['end'][i-1],\" 進場 \",long_signal.values.squeeze())\n",
    "    #     回測   \n",
    "        ret_long = stock_close.loc[rebalance_list['start'][i]:rebalance_list['end'][i],long_signal].pct_change().fillna(0).T.mean()\n",
    "    \n",
    "        tic_long = stock_close.loc[rebalance_list['start'][i]:rebalance_list['end'][i],long_signal].columns   \n",
    "        \n",
    "        ret_long[0] = cost\n",
    "    \n",
    "    else :\n",
    "        ret_long = stock_close.loc[rebalance_list['start'][i]:rebalance_list['end'][i],long_signal].pct_change().fillna(0).T.mean()\n",
    "    \n",
    "        tic_long = stock_close.loc[rebalance_list['start'][i]:rebalance_list['end'][i],long_signal].columns \n",
    "        \n",
    "        \n",
    "\n",
    "    \n",
    "    ret_long_list.append(ret_long)\n",
    "    tic_long_list.append(tic_long)\n",
    "\n",
    "ret_long_df = pd.DataFrame(pd.DataFrame(ret_long_list).fillna(0).sum())\n",
    "tic_long_df = pd.DataFrame(tic_long_list)\n",
    "\n",
    "end_time = time.time()\n",
    "print('此次回測總共耗時 %f 秒' %(round(end_time-start_time,2)))"
   ]
  }
 ],
 "metadata": {
  "kernelspec": {
   "display_name": "Python 3",
   "language": "python",
   "name": "python3"
  },
  "language_info": {
   "codemirror_mode": {
    "name": "ipython",
    "version": 3
   },
   "file_extension": ".py",
   "mimetype": "text/x-python",
   "name": "python",
   "nbconvert_exporter": "python",
   "pygments_lexer": "ipython3",
   "version": "3.8.3"
  }
 },
 "nbformat": 4,
 "nbformat_minor": 4
}
